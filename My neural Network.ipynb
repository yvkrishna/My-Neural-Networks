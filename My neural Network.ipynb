{
 "cells": [
  {
   "cell_type": "code",
   "execution_count": 1,
   "metadata": {},
   "outputs": [],
   "source": [
    "import matplotlib.pyplot as plt\n",
    "import numpy as np"
   ]
  },
  {
   "cell_type": "code",
   "execution_count": 2,
   "metadata": {},
   "outputs": [],
   "source": [
    "import csv\n",
    "reader = csv.reader(open(\"hepatitis_2_csv.csv\", \"r\"))\n",
    "x = list(reader)\n",
    "res = np.array(x).astype(\"float\")"
   ]
  },
  {
   "cell_type": "code",
   "execution_count": 3,
   "metadata": {},
   "outputs": [],
   "source": [
    "training_class_name=res[0:568,19:20];\n",
    "training_data=res[0:568,0:19];\n",
    "training_data=np.matrix(training_data)\n",
    "training_class_name=np.matrix(training_class_name)"
   ]
  },
  {
   "cell_type": "code",
   "execution_count": 4,
   "metadata": {},
   "outputs": [],
   "source": [
    "meanData=training_data.mean()\n",
    "varianceData=np.var(training_data)\n",
    "training_data=(training_data-meanData)/varianceData"
   ]
  },
  {
   "cell_type": "code",
   "execution_count": 5,
   "metadata": {},
   "outputs": [],
   "source": [
    "class Unit:\n",
    "    \n",
    "    def __init__(self,activation):\n",
    "        # self.activation=\"sigmoid\"\n",
    "        self.activation=activation\n",
    "        print(\"Activation set as {}\".format(self.activation))\n",
    "        \n",
    "    def sigmoid(self,X):\n",
    "        return 1/(1+np.exp(-X));\n",
    "  \n",
    "    def tanh(self,X):\n",
    "        return np.tanh(X);\n",
    "\n",
    "    def relu(self,X):\n",
    "        return np.maximum(0, X);\n",
    "        \n",
    "    def getActivation(self):\n",
    "        # plot the activation function using matplotlib library\n",
    "        cur_axes = plt.gca()\n",
    "        # to remove the x axis\n",
    "        cur_axes.axes.get_xaxis().set_visible(False)\n",
    "        rangex=np.linspace(-10, 10, 100)\n",
    "        \n",
    "        if(self.activation==\"sigmoid\"):\n",
    "            plt.plot(rangex,self.sigmoid(rangex))\n",
    "        elif(self.activation==\"tanh\"):\n",
    "            plt.plot(rangex,self.tanh(rangex))\n",
    "        elif(self.activation==\"relu\"):\n",
    "            plt.plot(rangex,self.relu(rangex))\n",
    "        plt.title(\"activation function = \"+self.activation)\n",
    "        \n",
    "    def train(self,epochs,inputmatrix,outputmatrix):\n",
    "        self.weights=np.random.rand(inputmatrix.shape[1],1)\n",
    "        self.trainingOutput=[]\n",
    "        self.correctOutput=[]\n",
    "        self.epochs=np.asmatrix(np.arange(0,epochs,1))\n",
    "        for i in range(0,epochs):\n",
    "            val=self.output(inputmatrix,outputmatrix,i)\n",
    "            if(self.activation==\"sigmoid\"):\n",
    "                val=val>=0.499\n",
    "            elif(self.activation==\"tanh\" or self.activation==\"relu\"):\n",
    "                val=val>=0\n",
    "                    \n",
    "            self.trainingOutput.append(val)\n",
    "            self.correctOutput.append(outputmatrix)\n",
    "            \n",
    "        self.trainingOutput=np.asarray(self.trainingOutput)\n",
    "        self.correctOutput=np.asarray(self.correctOutput)\n",
    "            \n",
    "    def output(self,inputmatrix,outputmatrix,iterno):\n",
    "        self.ipv=np.dot(inputmatrix,self.weights)\n",
    "        if(self.activation==\"sigmoid\"):\n",
    "            self.result=self.sigmoid(self.ipv)\n",
    "        elif(self.activation==\"tanh\"):\n",
    "            self.result=self.tanh(self.ipv)\n",
    "        elif(self.activation==\"relu\"):\n",
    "            self.result=self.relu(self.ipv)\n",
    "        cost=self.costfunc(inputmatrix,outputmatrix)\n",
    "        print(\"cost for {} iteration is {}\".format(iterno,cost))\n",
    "        self.optimization(0.1,inputmatrix,outputmatrix)\n",
    "        return self.result\n",
    "        \n",
    "    def costfunc(self,inputmatrix,outputmatrix):\n",
    "        A1=np.multiply(outputmatrix,np.log(self.result))\n",
    "        A2=np.multiply((1-outputmatrix),np.log((1-self.result)))\n",
    "        cost=A1+A2\n",
    "        cost=(-1/len(inputmatrix))*cost\n",
    "        cost=np.sum(cost)\n",
    "        return cost\n",
    "    \n",
    "    def optimization(self,learningRate,inputmatrix,outputmatrix):\n",
    "        delta=(learningRate/len(self.weights))*np.dot(inputmatrix.transpose(),self.result-outputmatrix)\n",
    "        self.weights=self.weights-delta\n",
    "                                    \n",
    "    def parameters(self):\n",
    "        parameters={\"weights\":self.weights,\"activation\":self.activation}\n",
    "        print(\"Weights = {}\".format(parameters[\"weights\"]))\n",
    "        print(\"activation = {}\".format(parameters[\"activation\"]))\n",
    "        return parameters\n",
    "    \n",
    "    def predict(self,inp):\n",
    "        self.intake=np.dot(inp,self.weights)\n",
    "        if(self.activation==\"sigmoid\"):\n",
    "            self.out=self.sigmoid(self.intake)\n",
    "        elif(self.activation==\"tanh\"):\n",
    "            self.out=self.tanh(self.intake)\n",
    "        elif(self.activation==\"relu\"):\n",
    "            self.out=self.relu(self.intake)\n",
    "        return self.out\n",
    "    \n",
    "    def results(self):\n",
    "        ac=self.correctOutput - self.trainingOutput\n",
    "        accuracy=np.sum(ac,axis=1)\n",
    "        accuracy=accuracy/len(accuracy)\n",
    "        plt.plot(self.epochs.T,accuracy)\n",
    "        plt.title(\"Training Accuracy\")\n",
    "        plt.xlabel(\"epochs\")\n",
    "        plt.ylabel(\"Accuracy\")\n",
    "        #print(accuracy.shape)\n",
    "        \n",
    "    @classmethod\n",
    "    def info(cls):\n",
    "        print(\"This is a neural network unit which takes the output of previous unit and corresponding weights.\\n It takes the product of both and is passes on to the activation function to get the output\")\n",
    "        \n",
    "    "
   ]
  },
  {
   "cell_type": "code",
   "execution_count": 6,
   "metadata": {},
   "outputs": [
    {
     "name": "stdout",
     "output_type": "stream",
     "text": [
      "Activation set as sigmoid\n"
     ]
    }
   ],
   "source": [
    "u1=Unit(activation=\"sigmoid\")"
   ]
  },
  {
   "cell_type": "code",
   "execution_count": 7,
   "metadata": {},
   "outputs": [
    {
     "data": {
      "image/png": "[encoded data removed]",
      "text/plain": [
       "<Figure size 432x288 with 1 Axes>"
      ]
     },
     "metadata": {
      "needs_background": "light"
     },
     "output_type": "display_data"
    }
   ],
   "source": [
    "u1.getActivation()"
   ]
  },
  {
   "cell_type": "code",
   "execution_count": 11,
   "metadata": {},
   "outputs": [
    {
     "name": "stdout",
     "output_type": "stream",
     "text": [
      "cost for 0 iteration is 0.6811284150386613\n",
      "cost for 1 iteration is 0.6789391736789725\n",
      "cost for 2 iteration is 0.6767809120900685\n",
      "cost for 3 iteration is 0.6746531592665928\n",
      "cost for 4 iteration is 0.672555450071488\n",
      "cost for 5 iteration is 0.6704873252563404\n",
      "cost for 6 iteration is 0.6684483314760628\n",
      "cost for 7 iteration is 0.666438021298152\n",
      "cost for 8 iteration is 0.6644559532067624\n",
      "cost for 9 iteration is 0.6625016916018271\n"
     ]
    }
   ],
   "source": [
    "u1.train(10,training_data,training_class_name)"
   ]
  },
  {
   "cell_type": "code",
   "execution_count": 12,
   "metadata": {},
   "outputs": [
    {
     "name": "stdout",
     "output_type": "stream",
     "text": [
      "[[ -6.8]\n",
      " [ -8. ]\n",
      " [ -9.6]\n",
      " [ -9.6]\n",
      " [ -9.6]\n",
      " [-10. ]\n",
      " [-10. ]\n",
      " [-10.4]\n",
      " [-10.4]\n",
      " [-10.4]]\n"
     ]
    },
    {
     "data": {
      "image/png": "[encoded data removed]",
      "text/plain": [
       "<Figure size 432x288 with 1 Axes>"
      ]
     },
     "metadata": {
      "needs_background": "light"
     },
     "output_type": "display_data"
    }
   ],
   "source": [
    "params=u1.results()"
   ]
  },
  {
   "cell_type": "code",
   "execution_count": 13,
   "metadata": {},
   "outputs": [
    {
     "name": "stdout",
     "output_type": "stream",
     "text": [
      "[[1.]]\n"
     ]
    }
   ],
   "source": [
    "output=u1.predict(np.asarray([39,0,0,1,1,1,0,1,1,0,0,0,0,2.3,280,98,3.8,40,0]))\n",
    "print(output)"
   ]
  },
  {
   "cell_type": "code",
   "execution_count": 14,
   "metadata": {},
   "outputs": [
    {
     "name": "stdout",
     "output_type": "stream",
     "text": [
      "Weights = [[0.22901248]\n",
      " [0.11840717]\n",
      " [0.02419174]\n",
      " [0.0905803 ]\n",
      " [0.18106277]\n",
      " [0.23657748]\n",
      " [0.1788707 ]\n",
      " [0.63317053]\n",
      " [0.84047093]\n",
      " [0.5348659 ]\n",
      " [0.74218908]\n",
      " [0.49101498]\n",
      " [0.0975878 ]\n",
      " [0.17698653]\n",
      " [1.40700468]\n",
      " [0.64845572]\n",
      " [0.20879824]\n",
      " [1.31769124]\n",
      " [0.05570172]]\n",
      "activation = sigmoid\n"
     ]
    }
   ],
   "source": [
    "res=u1.parameters()"
   ]
  },
  {
   "cell_type": "code",
   "execution_count": 127,
   "metadata": {},
   "outputs": [
    {
     "ename": "SyntaxError",
     "evalue": "unexpected EOF while parsing (<ipython-input-127-4e99675331ea>, line 6)",
     "output_type": "error",
     "traceback": [
      "\u001b[1;36m  File \u001b[1;32m\"<ipython-input-127-4e99675331ea>\"\u001b[1;36m, line \u001b[1;32m6\u001b[0m\n\u001b[1;33m    \u001b[0m\n\u001b[1;37m    ^\u001b[0m\n\u001b[1;31mSyntaxError\u001b[0m\u001b[1;31m:\u001b[0m unexpected EOF while parsing\n"
     ]
    }
   ],
   "source": [
    "\n",
    "class Layers:\n",
    "    def __init__(self):\n",
    "        pass\n",
    "    class Deep:\n",
    "        def __init__(self,numberOfUnits,otherdata):\n",
    "            "
   ]
  },
  {
   "cell_type": "code",
   "execution_count": 94,
   "metadata": {},
   "outputs": [
    {
     "data": {
      "text/plain": [
       "1"
      ]
     },
     "execution_count": 94,
     "metadata": {},
     "output_type": "execute_result"
    }
   ],
   "source": [
    "True-0"
   ]
  },
  {
   "cell_type": "code",
   "execution_count": null,
   "metadata": {},
   "outputs": [],
   "source": []
  }
 ],
 "metadata": {
  "kernelspec": {
   "display_name": "Python 3",
   "language": "python",
   "name": "python3"
  },
  "language_info": {
   "codemirror_mode": {
    "name": "ipython",
    "version": 3
   },
   "file_extension": ".py",
   "mimetype": "text/x-python",
   "name": "python",
   "nbconvert_exporter": "python",
   "pygments_lexer": "ipython3",
   "version": "3.7.4"
  }
 },
 "nbformat": 4,
 "nbformat_minor": 2
}
