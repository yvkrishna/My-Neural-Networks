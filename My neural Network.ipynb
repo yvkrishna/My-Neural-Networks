{
 "cells": [
  {
   "cell_type": "code",
   "execution_count": 1,
   "metadata": {},
   "outputs": [],
   "source": [
    "import matplotlib.pyplot as plt\n",
    "import numpy as np"
   ]
  },
  {
   "cell_type": "code",
   "execution_count": 2,
   "metadata": {},
   "outputs": [],
   "source": [
    "import csv\n",
    "reader = csv.reader(open(\"hepatitis_2_csv.csv\", \"r\"))\n",
    "x = list(reader)\n",
    "res = np.array(x).astype(\"float\")"
   ]
  },
  {
   "cell_type": "code",
   "execution_count": 3,
   "metadata": {},
   "outputs": [],
   "source": [
    "training_class_name=res[0:568,19:20];\n",
    "training_data=res[0:568,0:19];\n",
    "training_data=np.matrix(training_data)\n",
    "training_class_name=np.matrix(training_class_name)"
   ]
  },
  {
   "cell_type": "code",
   "execution_count": 85,
   "metadata": {},
   "outputs": [],
   "source": [
    "class Unit:\n",
    "    \n",
    "    def __init__(self,activation):\n",
    "        # self.activation=\"sigmoid\"\n",
    "        self.activation=activation\n",
    "        print(\"Activation set as {}\".format(self.activation))\n",
    "        \n",
    "    def sigmoid(self,X):\n",
    "        return 1/(1+np.exp(-X));\n",
    "  \n",
    "    def tanh(self,X):\n",
    "        return np.tanh(X);\n",
    "\n",
    "    def relu(self,X):\n",
    "        return np.maximum(0, X);\n",
    "        \n",
    "    def getActivation(self):\n",
    "        # plot the activation function using matplotlib library\n",
    "        cur_axes = plt.gca()\n",
    "        # to remove the x axis\n",
    "        cur_axes.axes.get_xaxis().set_visible(False)\n",
    "        rangex=np.linspace(-10, 10, 100)\n",
    "        \n",
    "        if(self.activation==\"sigmoid\"):\n",
    "            plt.plot(rangex,self.sigmoid(rangex))\n",
    "        elif(self.activation==\"tanh\"):\n",
    "            plt.plot(rangex,self.tanh(rangex))\n",
    "        elif(self.activation==\"relu\"):\n",
    "            plt.plot(rangex,self.relu(rangex))\n",
    "        plt.title(\"activation function = \"+self.activation)\n",
    "        \n",
    "    def train(self,epochs,inputmatrix,outputmatrix):\n",
    "        self.weights=0.01*np.random.rand(inputmatrix.shape[1],1)\n",
    "        self.trainingOutput=[]\n",
    "        self.correctOutput=[]\n",
    "        self.epochs=np.linspace(0,epochs,outputmatrix.shape[0])\n",
    "        for i in range(0,epochs):\n",
    "            val=self.output(inputmatrix,outputmatrix,i)\n",
    "            self.trainingOutput.append(val)\n",
    "            self.correctOutput.append(outputmatrix)\n",
    "            \n",
    "        self.trainingOutput=np.asarray(self.trainingOutput)\n",
    "        self.correctOutput=np.asarray(self.correctOutput)\n",
    "            \n",
    "    def output(self,inputmatrix,outputmatrix,iterno):\n",
    "        self.ipv=np.dot(inputmatrix,self.weights)\n",
    "        self.result=self.sigmoid(self.ipv)\n",
    "        cost=self.costfunc(inputmatrix,outputmatrix)\n",
    "        print(\"cost for {} iteration is {}\".format(iterno,cost))\n",
    "        self.optimization(0.1,inputmatrix,outputmatrix)\n",
    "        return self.result\n",
    "        \n",
    "    def costfunc(self,inputmatrix,outputmatrix):\n",
    "        A1=np.multiply(outputmatrix,np.log(self.result))\n",
    "        A2=np.multiply((1-outputmatrix),np.log((1-self.result)))\n",
    "        cost=A1+A2\n",
    "        cost=(-1/len(inputmatrix))*cost\n",
    "        cost=np.sum(cost)\n",
    "        return cost\n",
    "    \n",
    "    def optimization(self,learningRate,inputmatrix,outputmatrix):\n",
    "        delta=((learningRate/len(self.weights))*np.matmul(inputmatrix.transpose(),np.subtract(self.result,outputmatrix)))\n",
    "        self.weights=self.weights-delta\n",
    "                                    \n",
    "    def parameters(self):\n",
    "        parameters={\"weights\":self.weights,\"activation\":self.activation}\n",
    "        print(\"Weights = {}\".format(parameters[\"weights\"]))\n",
    "        print(\"activation = {}\".format(parameters[\"activation\"]))\n",
    "        return parameters\n",
    "    \n",
    "    def predict(self,inp):\n",
    "        self.intake=np.dot(inp,self.weights)\n",
    "        if(self.activation==\"sigmoid\"):\n",
    "            self.out=self.sigmoid(self.intake)\n",
    "        elif(self.activation==\"tanh\"):\n",
    "            self.out=self.tanh(self.intake)\n",
    "        elif(self.activation==\"relu\"):\n",
    "            self.out=self.relu(self.intake)\n",
    "        return self.out\n",
    "    \n",
    "    def results(self):\n",
    "        accuracy=self.correctOutput - self.trainingOutput\n",
    "        print(accuracy)\n",
    "        #print(len(self.epochs.shape))\n",
    "        #plt.plot(accuracy,self.epochs)\n",
    "        \n",
    "    @classmethod\n",
    "    def info(cls):\n",
    "        print(\"This is a neural network unit which takes the output of previous unit and corresponding weights.\\n It takes the product of both and is passes on to the activation function to get the output\")\n",
    "        \n",
    "    "
   ]
  },
  {
   "cell_type": "code",
   "execution_count": 86,
   "metadata": {},
   "outputs": [
    {
     "name": "stdout",
     "output_type": "stream",
     "text": [
      "Activation set as relu\n"
     ]
    }
   ],
   "source": [
    "u1=Unit(activation=\"relu\")"
   ]
  },
  {
   "cell_type": "code",
   "execution_count": 14,
   "metadata": {},
   "outputs": [
    {
     "data": {
      "image/png": "[encoded data removed]",
      "text/plain": [
       "<Figure size 432x288 with 1 Axes>"
      ]
     },
     "metadata": {
      "needs_background": "light"
     },
     "output_type": "display_data"
    }
   ],
   "source": [
    "u1.getActivation()"
   ]
  },
  {
   "cell_type": "code",
   "execution_count": 7,
   "metadata": {},
   "outputs": [],
   "source": [
    "meanData=training_data.mean()\n",
    "varianceData=np.var(training_data)\n",
    "training_data=(training_data-meanData)/varianceData"
   ]
  },
  {
   "cell_type": "code",
   "execution_count": 87,
   "metadata": {},
   "outputs": [
    {
     "name": "stdout",
     "output_type": "stream",
     "text": [
      "cost for 0 iteration is 0.69307438334747\n",
      "cost for 1 iteration is 0.6906871310524714\n",
      "cost for 2 iteration is 0.688333872929648\n",
      "cost for 3 iteration is 0.6860141047330977\n",
      "cost for 4 iteration is 0.6837273277098577\n",
      "cost for 5 iteration is 0.6814730486635805\n",
      "cost for 6 iteration is 0.6792507800110961\n",
      "cost for 7 iteration is 0.6770600398320841\n",
      "cost for 8 iteration is 0.6749003519120808\n",
      "cost for 9 iteration is 0.6727712457790562\n"
     ]
    }
   ],
   "source": [
    "u1.train(10,training_data,training_class_name)"
   ]
  },
  {
   "cell_type": "code",
   "execution_count": 73,
   "metadata": {},
   "outputs": [
    {
     "data": {
      "text/plain": [
       "(568, 1)"
      ]
     },
     "execution_count": 73,
     "metadata": {},
     "output_type": "execute_result"
    }
   ],
   "source": [
    "training_class_name.shape"
   ]
  },
  {
   "cell_type": "code",
   "execution_count": 88,
   "metadata": {},
   "outputs": [
    {
     "name": "stdout",
     "output_type": "stream",
     "text": [
      "[[[ 0.50001715]\n",
      "  [ 0.49993155]\n",
      "  [ 0.49996375]\n",
      "  ...\n",
      "  [ 0.50003407]\n",
      "  [ 0.50001748]\n",
      "  [-0.49999539]]\n",
      "\n",
      " [[ 0.49876325]\n",
      "  [ 0.49808452]\n",
      "  [ 0.49837721]\n",
      "  ...\n",
      "  [ 0.49886846]\n",
      "  [ 0.49879521]\n",
      "  [-0.50131687]]\n",
      "\n",
      " [[ 0.49751774]\n",
      "  [ 0.49625072]\n",
      "  [ 0.49680155]\n",
      "  ...\n",
      "  [ 0.49771072]\n",
      "  [ 0.49758117]\n",
      "  [-0.50262923]]\n",
      "\n",
      " ...\n",
      "\n",
      " [[ 0.49141438]\n",
      "  [ 0.48727835]\n",
      "  [ 0.48908489]\n",
      "  ...\n",
      "  [ 0.49203854]\n",
      "  [ 0.49163294]\n",
      "  [-0.50905603]]\n",
      "\n",
      " [[ 0.49021821]\n",
      "  [ 0.48552282]\n",
      "  [ 0.4875735 ]\n",
      "  ...\n",
      "  [ 0.49092707]\n",
      "  [ 0.49046734]\n",
      "  [-0.51031475]]\n",
      "\n",
      " [[ 0.48903009]\n",
      "  [ 0.48378013]\n",
      "  [ 0.48607263]\n",
      "  ...\n",
      "  [ 0.48982315]\n",
      "  [ 0.48930965]\n",
      "  [-0.51156471]]]\n"
     ]
    }
   ],
   "source": [
    "params=u1.results()"
   ]
  },
  {
   "cell_type": "code",
   "execution_count": 51,
   "metadata": {},
   "outputs": [
    {
     "name": "stdout",
     "output_type": "stream",
     "text": [
      "[[0.04827737]]\n"
     ]
    }
   ],
   "source": [
    "output=u1.predict(training_data[0:1,0:19])\n",
    "print(output)"
   ]
  },
  {
   "cell_type": "code",
   "execution_count": 52,
   "metadata": {},
   "outputs": [
    {
     "ename": "SyntaxError",
     "evalue": "unexpected EOF while parsing (<ipython-input-52-4e99675331ea>, line 6)",
     "output_type": "error",
     "traceback": [
      "\u001b[1;36m  File \u001b[1;32m\"<ipython-input-52-4e99675331ea>\"\u001b[1;36m, line \u001b[1;32m6\u001b[0m\n\u001b[1;33m    \u001b[0m\n\u001b[1;37m    ^\u001b[0m\n\u001b[1;31mSyntaxError\u001b[0m\u001b[1;31m:\u001b[0m unexpected EOF while parsing\n"
     ]
    }
   ],
   "source": [
    "\n",
    "class Layers:\n",
    "    def __init__(self):\n",
    "        pass\n",
    "    class Deep:\n",
    "        def __init__(self,numberOfUnits,otherdata):\n",
    "            "
   ]
  },
  {
   "cell_type": "code",
   "execution_count": null,
   "metadata": {},
   "outputs": [],
   "source": []
  }
 ],
 "metadata": {
  "kernelspec": {
   "display_name": "Python 3",
   "language": "python",
   "name": "python3"
  },
  "language_info": {
   "codemirror_mode": {
    "name": "ipython",
    "version": 3
   },
   "file_extension": ".py",
   "mimetype": "text/x-python",
   "name": "python",
   "nbconvert_exporter": "python",
   "pygments_lexer": "ipython3",
   "version": "3.7.4"
  }
 },
 "nbformat": 4,
 "nbformat_minor": 2
}
