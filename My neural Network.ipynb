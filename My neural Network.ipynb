{
 "cells": [
  {
   "cell_type": "code",
   "execution_count": 57,
   "metadata": {},
   "outputs": [],
   "source": [
    "import matplotlib.pyplot as plt\n",
    "import numpy as np"
   ]
  },
  {
   "cell_type": "code",
   "execution_count": 27,
   "metadata": {},
   "outputs": [],
   "source": [
    "import csv\n",
    "reader = csv.reader(open(\"hepatitis_2_csv.csv\", \"r\"))\n",
    "x = list(reader)\n",
    "res = np.array(x).astype(\"float\")"
   ]
  },
  {
   "cell_type": "code",
   "execution_count": 28,
   "metadata": {},
   "outputs": [],
   "source": [
    "training_class_name=res[0:568,19:20];\n",
    "training_data=res[0:568,0:19];\n",
    "training_data=np.matrix(training_data)\n",
    "training_class_name=np.matrix(training_class_name)"
   ]
  },
  {
   "cell_type": "code",
   "execution_count": 89,
   "metadata": {},
   "outputs": [
    {
     "data": {
      "text/plain": [
       "matrix([[3.0000000e-07, 1.0000002e+00, 3.0000000e-07, 3.0000000e-07,\n",
       "         3.0000000e-07, 3.0000000e-07, 3.0000000e-07, 3.0000000e-07,\n",
       "         3.0000000e-07]])"
      ]
     },
     "execution_count": 89,
     "metadata": {},
     "output_type": "execute_result"
    }
   ],
   "source": [
    "#a=np.matrix([[1,2,3,4,5],[2,3,4,5,1],[3,4,5,1,2],[4,5,1,2,3],[5,1,2,3,4]])\n",
    "#b=a.transpose()\n",
    "#print(a)\n",
    "#print(b)\n",
    "#np.sum(a,b,axis=1)\n",
    "abcdef=np.matrix([.0000001,1,.0000001,.0000001,.0000001,.0000001,.0000001,.0000001,.0000001])\n",
    "bcadef=np.matrix([.0000002,.0000002,.0000002,.0000002,.0000002,.0000002,.0000002,.0000002,.0000002])\n",
    "np.add(abcdef,bcadef)\n",
    "#abc=(1/len(abc))*abc"
   ]
  },
  {
   "cell_type": "code",
   "execution_count": 107,
   "metadata": {},
   "outputs": [
    {
     "name": "stdout",
     "output_type": "stream",
     "text": [
      "0.5214169593407552\n"
     ]
    }
   ],
   "source": [
    "for i in range(0,1):\n",
    "    u1.output(training_data,training_class_name)"
   ]
  },
  {
   "cell_type": "code",
   "execution_count": 196,
   "metadata": {},
   "outputs": [
    {
     "data": {
      "text/plain": [
       "19"
      ]
     },
     "execution_count": 196,
     "metadata": {},
     "output_type": "execute_result"
    }
   ],
   "source": [
    "training_data.shape[1]"
   ]
  },
  {
   "cell_type": "code",
   "execution_count": 244,
   "metadata": {},
   "outputs": [],
   "source": [
    "class Unit:\n",
    "    \n",
    "    def __init__(self,activation):\n",
    "        # self.activation=\"sigmoid\"\n",
    "        self.activation=activation\n",
    "        print(\"Activation set as Sigmoid\")\n",
    "        \n",
    "    def sigmoid(self,X):\n",
    "        return 1/(1+np.exp(-X));\n",
    "  \n",
    "    def tanh(self,X):\n",
    "        return np.tanh(X);\n",
    "\n",
    "    def relu(self,X):\n",
    "        return np.maximum(0, X);\n",
    "        \n",
    "    def getActivation(self):\n",
    "        # plot the activation function using matplotlib library\n",
    "        cur_axes = plt.gca()\n",
    "        # to remove the x axis\n",
    "        cur_axes.axes.get_xaxis().set_visible(False)\n",
    "        rangex=np.linspace(-10, 10, 100)\n",
    "        \n",
    "        if(self.activation==\"sigmoid\"):\n",
    "            plt.plot(rangex,self.sigmoid(rangex))\n",
    "        elif(self.activation==\"tanh\"):\n",
    "            plt.plot(rangex,self.tanh(rangex))\n",
    "        elif(self.activation==\"relu\"):\n",
    "            plt.plot(rangex,self.relu(rangex))\n",
    "        plt.title(\"activation function = \"+self.activation)\n",
    "        \n",
    "    def train(self,epochs,inputmatrix,outputmatrix):\n",
    "        self.weights=0.01*np.random.rand(inputmatrix.shape[1],1)\n",
    "        for i in range(0,epochs):\n",
    "            self.output(inputmatrix,outputmatrix)\n",
    "            \n",
    "    def output(self,inputmatrix,outputmatrix):\n",
    "        self.ipv=np.dot(inputmatrix,self.weights)\n",
    "        self.result=self.sigmoid(self.ipv)\n",
    "        cost=self.costfunc(inputmatrix,outputmatrix)\n",
    "        print(cost)\n",
    "        self.optimization(0.1,inputmatrix,outputmatrix)\n",
    "        \n",
    "    def costfunc(self,inputmatrix,outputmatrix):\n",
    "        one=np.ones(outputmatrix.shape)\n",
    "        cost=(np.sum((np.multiply(outputmatrix,np.log(self.result)),np.multiply((np.subtract(one,outputmatrix)),np.log(np.subtract(one,self.result))))))\n",
    "        #cost=(np.multiply(outputmatrix,np.log(self.result)))\n",
    "        cost=(-1/len(inputmatrix))*cost\n",
    "        return cost\n",
    "    \n",
    "    def optimization(self,learningRate,inputmatrix,outputmatrix):\n",
    "        delta=((learningRate/len(self.weights))*np.matmul(inputmatrix.transpose(),np.subtract(self.result,outputmatrix)))\n",
    "        self.weights=self.weights-delta\n",
    "                                    \n",
    "    def parameters(self):\n",
    "        parameters={\"weights\":self.weights,\"activation\":self.activation}\n",
    "        print(\"Weights = {}\".format(parameters[\"weights\"]))\n",
    "        print(\"activation = {}\".format(parameters[\"activation\"]))\n",
    "        return parameters\n",
    "        \n",
    "    @classmethod\n",
    "    def info(cls):\n",
    "        print(\"This is a neural network unit which takes the output of previous unit and corresponding weights.\\n It takes the product of both and is passes on to the activation function to get the output\")\n",
    "        \n",
    "    "
   ]
  },
  {
   "cell_type": "code",
   "execution_count": 245,
   "metadata": {},
   "outputs": [
    {
     "name": "stdout",
     "output_type": "stream",
     "text": [
      "Activation set as Sigmoid\n"
     ]
    }
   ],
   "source": [
    "u1=Unit(activation=\"sigmoid\")"
   ]
  },
  {
   "cell_type": "code",
   "execution_count": 246,
   "metadata": {},
   "outputs": [
    {
     "data": {
      "image/png": "[encoded data removed]",
      "text/plain": [
       "<Figure size 432x288 with 1 Axes>"
      ]
     },
     "metadata": {
      "needs_background": "light"
     },
     "output_type": "display_data"
    }
   ],
   "source": [
    "u1.getActivation()"
   ]
  },
  {
   "cell_type": "code",
   "execution_count": 247,
   "metadata": {},
   "outputs": [
    {
     "name": "stdout",
     "output_type": "stream",
     "text": [
      "0.4986003099180007\n",
      "nan\n",
      "nan\n",
      "nan\n",
      "nan\n",
      "nan\n",
      "nan\n",
      "nan\n",
      "nan\n",
      "nan\n"
     ]
    },
    {
     "name": "stderr",
     "output_type": "stream",
     "text": [
      "C:\\Users\\vedha krishna\\Anaconda3\\lib\\site-packages\\ipykernel_launcher.py:46: RuntimeWarning: divide by zero encountered in log\n",
      "C:\\Users\\vedha krishna\\Anaconda3\\lib\\site-packages\\ipykernel_launcher.py:46: RuntimeWarning: invalid value encountered in multiply\n"
     ]
    }
   ],
   "source": [
    "u1.train(10,training_data,training_class_name)"
   ]
  },
  {
   "cell_type": "code",
   "execution_count": 248,
   "metadata": {},
   "outputs": [
    {
     "name": "stdout",
     "output_type": "stream",
     "text": [
      "Weights = [[ 2.85711363e+01]\n",
      " [ 7.14346223e-01]\n",
      " [ 4.10243047e-01]\n",
      " [ 6.25195074e-01]\n",
      " [-7.96328585e-01]\n",
      " [-1.42759672e+00]\n",
      " [-3.77034588e-01]\n",
      " [ 6.86427655e-01]\n",
      " [ 6.11660757e-02]\n",
      " [-6.28593598e-01]\n",
      " [-1.63847451e+00]\n",
      " [-3.20257919e+00]\n",
      " [-1.47257052e+00]\n",
      " [-5.05947816e+00]\n",
      " [ 4.41156841e+01]\n",
      " [ 5.85995131e+01]\n",
      " [ 8.12761916e+00]\n",
      " [ 1.59706143e+02]\n",
      " [-1.40362934e+00]]\n",
      "activation = sigmoid\n"
     ]
    },
    {
     "data": {
      "text/plain": [
       "(19, 1)"
      ]
     },
     "execution_count": 248,
     "metadata": {},
     "output_type": "execute_result"
    }
   ],
   "source": [
    "params=u1.parameters()\n",
    "params[\"weights\"].shape"
   ]
  },
  {
   "cell_type": "code",
   "execution_count": null,
   "metadata": {},
   "outputs": [],
   "source": [
    "\n",
    "class Layers:\n",
    "    def __init__(self):\n",
    "        pass\n",
    "    class Deep:\n",
    "        def __init__(self,numberOfUnits,otherdata):\n",
    "            "
   ]
  }
 ],
 "metadata": {
  "kernelspec": {
   "display_name": "Python 3",
   "language": "python",
   "name": "python3"
  },
  "language_info": {
   "codemirror_mode": {
    "name": "ipython",
    "version": 3
   },
   "file_extension": ".py",
   "mimetype": "text/x-python",
   "name": "python",
   "nbconvert_exporter": "python",
   "pygments_lexer": "ipython3",
   "version": "3.7.4"
  }
 },
 "nbformat": 4,
 "nbformat_minor": 2
}
