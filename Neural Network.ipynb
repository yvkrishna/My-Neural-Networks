{
 "cells": [
  {
   "cell_type": "code",
   "execution_count": 7,
   "metadata": {},
   "outputs": [],
   "source": [
    "import numpy as np\n",
    "import matplotlib.pyplot as plt\n",
    "import csv"
   ]
  },
  {
   "cell_type": "code",
   "execution_count": 8,
   "metadata": {},
   "outputs": [],
   "source": [
    "reader = csv.reader(open(\"hepatitis_2_csv.csv\", \"r\"))\n",
    "x = list(reader)\n",
    "res = np.array(x).astype(\"float\")"
   ]
  },
  {
   "cell_type": "code",
   "execution_count": 339,
   "metadata": {},
   "outputs": [],
   "source": [
    "training_class_name=res[0:568,19:20];\n",
    "training_data=res[0:568,0:19];\n",
    "training_data=np.matrix(training_data)\n",
    "training_data=training_data.transpose()\n",
    "training_class_name=np.matrix(training_class_name)\n",
    "training_class_name=training_class_name.transpose()"
   ]
  },
  {
   "cell_type": "code",
   "execution_count": 531,
   "metadata": {},
   "outputs": [],
   "source": [
    "class Net:\n",
    "    def __init__(self):\n",
    "        self.weights=[];\n",
    "        self.bias=[];\n",
    "        self.status=[];\n",
    "        self.a=[];\n",
    "        self.z=[];\n",
    "        self.da=[];\n",
    "        self.dz=[];\n",
    "        self.dw=[];\n",
    "        self.db=[];\n",
    "        self.cost=[];\n",
    "        self.trainingOutput=[];\n",
    "        self.correctOutput=[];\n",
    "        \n",
    "    def model(self,layers):\n",
    "        self.layers=layers\n",
    "        self.status.append(\"Model archetecture recieved\")\n",
    "        self.createBrain()\n",
    "        self.status.append(\"Model archetecture created\")\n",
    "        return self.layers\n",
    "    \n",
    "    def createBrain(self):\n",
    "        inputshape = self.layers[0].getshape()\n",
    "        self.weights.append(0.01*np.random.rand(self.layers[1].getparams()[\"noOfUnits\"],inputshape[0]))\n",
    "        self.bias.append(np.ones([self.layers[1].getparams()[\"noOfUnits\"],inputshape[1]]))\n",
    "        print(\"layer 1 has bias shape as {} and weights shape as {}\".format(self.bias[0].shape,self.weights[0].shape))\n",
    "        for i in range(2,len(self.layers)):\n",
    "            lowerlimit=self.layers[i].getparams()[\"noOfUnits\"]\n",
    "            upperlimit=self.layers[i-1].getparams()[\"noOfUnits\"]\n",
    "            self.weights.append(0.01*np.random.rand(lowerlimit,upperlimit))\n",
    "            self.bias.append(np.ones([lowerlimit,inputshape[1]]))\n",
    "            print(\"layer {} has bias shape as {} and weights shape as {}\".format(i,self.bias[i-1].shape,self.weights[i-1].shape))\n",
    "    \n",
    "    def train(self,epochs,traindata,trainoutcome,LearningRate):\n",
    "        self.epochs=np.asmatrix(np.arange(0,epochs,1))\n",
    "        for i in range(0,epochs):\n",
    "            val = self.forewardProp(traindata,trainoutcome)\n",
    "            self.trainingOutput.append(val)\n",
    "            self.correctOutput.append(trainoutcome)\n",
    "            self.status.append(\"Foreward Propogation for epoch {} is done\".format(i))\n",
    "            self.backwardProp(trainoutcome,LearningRate)\n",
    "            self.status.append(\"Backward Propogation for epoch {} is done\".format(i))\n",
    "            \n",
    "        self.trainingOutput=np.asarray(self.trainingOutput)\n",
    "        self.correctOutput=np.asarray(self.correctOutput)\n",
    "    \n",
    "    def forewardProp(self,traindata,trainoutcome):\n",
    "        self.a.append(traindata)\n",
    "        self.weights=np.asarray(self.weights)\n",
    "        self.bias=np.asarray(self.bias)\n",
    "        z=np.dot(self.weights[0],traindata)+self.bias[0]\n",
    "        self.z.append(z)\n",
    "        \n",
    "        if(self.layers[1].getparams()[\"activation\"]==\"sigmoid\"):\n",
    "            self.a.append(self.sigmoid(z))\n",
    "        elif(self.layers[1].getparams()[\"activation\"]==\"tanh\"):\n",
    "            self.a.append(self.tanh(z))\n",
    "        elif(self.layers[1].getparams()[\"activation\"]==\"relu\"):\n",
    "            self.a.append(self.relu(z))\n",
    "            \n",
    "       # cost=self.costfunc(traindata,trainoutcome,self.a[0])\n",
    "       # self.cost.append(cost)\n",
    "        \n",
    "        for i in range(2,len(self.layers)):\n",
    "            z=np.dot(self.weights[i-1],self.a[i-1])+self.bias[i-1]\n",
    "            self.z.append(z)\n",
    "            if(self.layers[1].getparams()[\"activation\"]==\"sigmoid\"):\n",
    "                self.a.append(self.sigmoid(z))\n",
    "            elif(self.layers[1].getparams()[\"activation\"]==\"tanh\"):\n",
    "                self.a.append(self.tanh(z))\n",
    "            elif(self.layers[1].getparams()[\"activation\"]==\"relu\"):\n",
    "                self.a.append(self.relu(z))\n",
    "        return self.a[len(self.layers)-1]\n",
    "        #    cost=self.costfunc(traindata,trainoutcome,self.a[i-1])\n",
    "        #    self.cost.append(cost)\n",
    "        #    print(cost)\n",
    "     \n",
    "    #def costfunc(self,traindata,trainoutcome,res):\n",
    "     #   A1=np.multiply(trainoutcome,np.log(res))\n",
    "     #   A2=np.multiply((1-outputmatrix),np.log((1-res)))\n",
    "     #   cost=A1+A2\n",
    "     #   cost=(-1/len(traindata))*cost\n",
    "     #   cost=np.sum(cost)\n",
    "     #   return cost\n",
    "    \n",
    "    def backwardProp(self,trainoutcome,learningRate):\n",
    "        self.da.append( (-trainoutcome/self.a[len(self.layers)-1])+( (1-trainoutcome)/(1-self.a[len(self.layers)-1])) );\n",
    "        for i in range(0,len(self.layers)-1):\n",
    "            sigmoidprime=np.multiply((self.sigmoid( self.z[len(self.layers)-2-i] ) ),( 1-(self.sigmoid(self.z[len(self.layers)-2-i])) ))\n",
    "            dz = np.multiply(self.da[i],sigmoidprime)\n",
    "            self.dz.append(dz)\n",
    "            dw = (1/len(trainoutcome))*(dz*self.a[len(self.layers)-2-i].transpose())\n",
    "            self.dw.append(dw)\n",
    "            db=(1/len(trainoutcome))*np.sum(dz,axis=1)\n",
    "            self.db.append(db)\n",
    "            daminusone=(self.weights[len(self.layers)-2-i].transpose())*dz\n",
    "            self.da.append(daminusone)\n",
    "            # Updating weights\n",
    "            self.weights[len(self.layers)-2-i] = self.weights[len(self.layers)-2-i] - learningRate*self.dw[i]\n",
    "            self.bias[len(self.layers)-2-i] = self.bias[len(self.layers)-2-i] - learningRate*self.db[i]\n",
    "            \n",
    "    def results(self):\n",
    "        #print(self.correctOutput.shape,self.trainingOutput.shape)\n",
    "        ls=self.correctOutput - self.trainingOutput\n",
    "        loss=np.sum(ls,axis=1)\n",
    "        loss=loss/len(loss)\n",
    "        ac=np.sum(self.correctOutput==self.trainingOutput,axis=1)\n",
    "        accuracy=ac/len(self.correctOutput)\n",
    "        plt.subplot(1,2,1)\n",
    "        plt.plot(self.epochs.T,accuracy)\n",
    "        plt.title(\"Training Accuracy\")\n",
    "        plt.xlabel(\"epochs\")\n",
    "        plt.ylabel(\"Accuracy\")\n",
    "        plt.subplot(1,2,2)\n",
    "        plt.plot(self.epochs.T,loss)\n",
    "        plt.title(\"Training Loss\")\n",
    "        plt.xlabel(\"epochs\")\n",
    "        plt.ylabel(\"Loss\")\n",
    "        #print(\"Accuracy : {}\".format(accuracy[len(accuracy)-1]))\n",
    "        #print(\"loss : {}\".format(loss[len(loss)-1]))\n",
    "    \n",
    "    def sigmoid(self,X):\n",
    "        return 1/(1+np.exp(-X));\n",
    "\n",
    "    def tanh(self,X):\n",
    "        return np.tanh(X);\n",
    "\n",
    "    def relu(self,X):\n",
    "        return np.maximum(0, X);\n",
    "\n",
    "    def getActivation(self):\n",
    "        # plot the activation function using matplotlib library\n",
    "        cur_axes = plt.gca()\n",
    "        # to remove the x axis\n",
    "        cur_axes.axes.get_xaxis().set_visible(False)\n",
    "        rangex=np.linspace(-10, 10, 100)\n",
    "\n",
    "        if(self.activation==\"sigmoid\"):\n",
    "            plt.plot(rangex,self.sigmoid(rangex))\n",
    "        elif(self.activation==\"tanh\"):\n",
    "            plt.plot(rangex,self.tanh(rangex))\n",
    "        elif(self.activation==\"relu\"):\n",
    "            plt.plot(rangex,self.relu(rangex))\n",
    "            plt.title(\"activation function = \"+self.activation)\n",
    "        \n",
    "    class Layers:\n",
    "        \n",
    "        class InputLayer:\n",
    "            \n",
    "            def __init__(self,shape):\n",
    "                self.shape=shape\n",
    "                \n",
    "            def getshape(self):\n",
    "                return np.asarray(self.shape).transpose()\n",
    "        \n",
    "        class DenseLayer:\n",
    "            \n",
    "            def __init__(self,noOfUnits,activation):\n",
    "                self.params={\"activation\":activation,\"shape\":(noOfUnits,1),\"noOfUnits\":noOfUnits}\n",
    "                \n",
    "            def getparams(self):\n",
    "                return self.params"
   ]
  },
  {
   "cell_type": "code",
   "execution_count": 532,
   "metadata": {},
   "outputs": [
    {
     "name": "stdout",
     "output_type": "stream",
     "text": [
      "layer 1 has bias shape as (15, 568) and weights shape as (15, 19)\n",
      "layer 2 has bias shape as (10, 568) and weights shape as (10, 15)\n",
      "layer 3 has bias shape as (5, 568) and weights shape as (5, 10)\n",
      "layer 4 has bias shape as (4, 568) and weights shape as (4, 5)\n",
      "layer 5 has bias shape as (1, 568) and weights shape as (1, 4)\n"
     ]
    }
   ],
   "source": [
    "my_brain = Net()\n",
    "l1=Net.Layers.InputLayer(training_data.shape)\n",
    "l2=Net.Layers.DenseLayer(15 , activation=\"sigmoid\")\n",
    "l3=Net.Layers.DenseLayer(10 , activation=\"sigmoid\")\n",
    "l4=Net.Layers.DenseLayer(5 , activation=\"sigmoid\")\n",
    "l5=Net.Layers.DenseLayer(4 , activation=\"sigmoid\")\n",
    "l6=Net.Layers.DenseLayer(1 , activation=\"sigmoid\")\n",
    "archetecture = my_brain.model(\n",
    "    layers=[l1,l2,l3,l4,l5,l6]\n",
    ")"
   ]
  },
  {
   "cell_type": "code",
   "execution_count": 533,
   "metadata": {},
   "outputs": [],
   "source": [
    "my_brain.train(10,training_data,training_class_name,0.01)"
   ]
  },
  {
   "cell_type": "code",
   "execution_count": 534,
   "metadata": {},
   "outputs": [
    {
     "name": "stdout",
     "output_type": "stream",
     "text": [
      "(10, 1, 568) (10, 1, 568)\n"
     ]
    },
    {
     "data": {
      "image/png": "[encoded data removed]",
      "text/plain": [
       "<Figure size 432x288 with 2 Axes>"
      ]
     },
     "metadata": {
      "needs_background": "light"
     },
     "output_type": "display_data"
    }
   ],
   "source": [
    "results=my_brain.results()"
   ]
  },
  {
   "cell_type": "code",
   "execution_count": null,
   "metadata": {},
   "outputs": [],
   "source": []
  }
 ],
 "metadata": {
  "kernelspec": {
   "display_name": "Python 3",
   "language": "python",
   "name": "python3"
  },
  "language_info": {
   "codemirror_mode": {
    "name": "ipython",
    "version": 3
   },
   "file_extension": ".py",
   "mimetype": "text/x-python",
   "name": "python",
   "nbconvert_exporter": "python",
   "pygments_lexer": "ipython3",
   "version": "3.7.4"
  }
 },
 "nbformat": 4,
 "nbformat_minor": 2
}
