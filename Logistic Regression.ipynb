{
 "cells": [
  {
   "cell_type": "code",
   "execution_count": 1,
   "metadata": {},
   "outputs": [],
   "source": [
    "import matplotlib.pyplot as plt\n",
    "import numpy as np\n",
    "import os\n",
    "from PIL import Image\n",
    "import csv"
   ]
  },
  {
   "cell_type": "code",
   "execution_count": 2,
   "metadata": {},
   "outputs": [],
   "source": [
    "os.chdir(r\"C:\\Users\\vedha krishna\\Desktop\\family photos\")\n",
    "folder=os.getcwd()"
   ]
  },
  {
   "cell_type": "code",
   "execution_count": 14,
   "metadata": {},
   "outputs": [
    {
     "name": "stdout",
     "output_type": "stream",
     "text": [
      "['kailasa', 'Srivalli']\n"
     ]
    }
   ],
   "source": [
    "output = [dI for dI in os.listdir(folder) if os.path.isdir(os.path.join(folder,dI))]\n",
    "output=output[0:2]\n",
    "print(output)"
   ]
  },
  {
   "cell_type": "code",
   "execution_count": 15,
   "metadata": {},
   "outputs": [],
   "source": [
    "os.chdir(r\"C:\\Users\\vedha krishna\\Desktop\\family photos\")\n",
    "training_data=[];\n",
    "b=[];\n",
    "#im = np.array(Image.open(os.getcwd()+\"\\kaika.jpg\"))\n",
    "#print(im)\n",
    "#!cd\n",
    "for i in range(0,len(output)):\n",
    "    os.chdir(output[i])\n",
    "    onlyfiles = [f for f in os.listdir(os.getcwd()) if os.path.isfile(os.path.join(os.getcwd(), f))]\n",
    "    for j in onlyfiles:\n",
    "        singleimage=Image.open(j)\n",
    "        singleimage=singleimage.resize((150,150))\n",
    "        im = np.array(singleimage)\n",
    "        b.append(im)\n",
    "    b=np.asarray(b)\n",
    "    training_data.append(b)\n",
    "    b=[]\n",
    "    os.chdir(r\"C:\\Users\\vedha krishna\\Desktop\\family photos\")"
   ]
  },
  {
   "cell_type": "code",
   "execution_count": 25,
   "metadata": {},
   "outputs": [
    {
     "name": "stdout",
     "output_type": "stream",
     "text": [
      "(2, 1)\n",
      "(2, 1)\n"
     ]
    }
   ],
   "source": [
    "training_data=np.asarray(training_data)\n",
    "training_data=training_data.reshape(training_data.shape[0],1)\n",
    "print(training_data.shape)\n",
    "training_class_name=np.array([1,0])\n",
    "training_class_name=training_class_name.reshape(2,1)\n",
    "print(training_class_name.shape)\n",
    "training_data=training_data/255"
   ]
  },
  {
   "cell_type": "raw",
   "metadata": {},
   "source": [
    "reader = csv.reader(open(\"hepatitis_2_csv.csv\", \"r\"))\n",
    "x = list(reader)\n",
    "res = np.array(x).astype(\"float\")"
   ]
  },
  {
   "cell_type": "code",
   "execution_count": 3,
   "metadata": {},
   "outputs": [],
   "source": [
    "training_class_name=res[0:568,19:20];\n",
    "training_data=res[0:568,0:19];\n",
    "training_data=np.matrix(training_data)\n",
    "training_class_name=np.matrix(training_class_name)"
   ]
  },
  {
   "cell_type": "code",
   "execution_count": 4,
   "metadata": {},
   "outputs": [],
   "source": [
    "meanData=training_data.mean()\n",
    "varianceData=np.var(training_data)\n",
    "training_data=(training_data-meanData)/varianceData"
   ]
  },
  {
   "cell_type": "code",
   "execution_count": 17,
   "metadata": {},
   "outputs": [],
   "source": [
    "class Unit:\n",
    "    \n",
    "    def __init__(self,activation):\n",
    "        # self.activation=\"sigmoid\"\n",
    "        self.activation=activation\n",
    "        print(\"Activation set as {}\".format(self.activation))\n",
    "        \n",
    "    def sigmoid(self,X):\n",
    "        return 1/(1+np.exp(-X));\n",
    "  \n",
    "    def tanh(self,X):\n",
    "        return np.tanh(X);\n",
    "\n",
    "    def relu(self,X):\n",
    "        return np.maximum(0, X);\n",
    "        \n",
    "    def getActivation(self):\n",
    "        # plot the activation function using matplotlib library\n",
    "        cur_axes = plt.gca()\n",
    "        # to remove the x axis\n",
    "        cur_axes.axes.get_xaxis().set_visible(False)\n",
    "        rangex=np.linspace(-10, 10, 100)\n",
    "        \n",
    "        if(self.activation==\"sigmoid\"):\n",
    "            plt.plot(rangex,self.sigmoid(rangex))\n",
    "        elif(self.activation==\"tanh\"):\n",
    "            plt.plot(rangex,self.tanh(rangex))\n",
    "        elif(self.activation==\"relu\"):\n",
    "            plt.plot(rangex,self.relu(rangex))\n",
    "        plt.title(\"activation function = \"+self.activation)\n",
    "        \n",
    "    def train(self,epochs,inputmatrix,outputmatrix):\n",
    "        self.weights=np.random.rand(inputmatrix.shape[1],1)\n",
    "        self.trainingOutput=[]\n",
    "        self.correctOutput=[]\n",
    "        self.epochs=np.asmatrix(np.arange(0,epochs,1))\n",
    "        for i in range(0,epochs):\n",
    "            val=self.output(inputmatrix,outputmatrix,i)\n",
    "            if(self.activation==\"sigmoid\"):\n",
    "                val=val>=0.499\n",
    "            elif(self.activation==\"tanh\" or self.activation==\"relu\"):\n",
    "                val=val>=0\n",
    "                    \n",
    "            self.trainingOutput.append(val)\n",
    "            self.correctOutput.append(outputmatrix)\n",
    "            \n",
    "        self.trainingOutput=np.asarray(self.trainingOutput)\n",
    "        self.correctOutput=np.asarray(self.correctOutput)\n",
    "            \n",
    "    def output(self,inputmatrix,outputmatrix,iterno):\n",
    "        self.ipv=np.dot(inputmatrix,self.weights)\n",
    "        if(self.activation==\"sigmoid\"):\n",
    "            self.result=self.sigmoid(self.ipv)\n",
    "        elif(self.activation==\"tanh\"):\n",
    "            self.result=self.tanh(self.ipv)\n",
    "        elif(self.activation==\"relu\"):\n",
    "            self.result=self.relu(self.ipv)\n",
    "        cost=self.costfunc(inputmatrix,outputmatrix)\n",
    "        print(\"cost for {} iteration is {}\".format(iterno,cost))\n",
    "        self.optimization(0.01,inputmatrix,outputmatrix)\n",
    "        return self.result\n",
    "        \n",
    "    def costfunc(self,inputmatrix,outputmatrix):\n",
    "        A1=np.multiply(outputmatrix,np.log(self.result))\n",
    "        A2=np.multiply((1-outputmatrix),np.log((1-self.result)))\n",
    "        cost=A1+A2\n",
    "        cost=(-1/len(inputmatrix))*cost\n",
    "        cost=np.sum(cost)\n",
    "        return cost\n",
    "    \n",
    "    def optimization(self,learningRate,inputmatrix,outputmatrix):\n",
    "        delta=(learningRate/len(self.weights))*np.dot(inputmatrix.transpose(),self.result-outputmatrix)\n",
    "        self.weights=self.weights-delta\n",
    "                                    \n",
    "    def parameters(self):\n",
    "        parameters={\"weights\":self.weights,\"activation\":self.activation}\n",
    "        print(\"Weights = {}\".format(parameters[\"weights\"]))\n",
    "        print(\"activation = {}\".format(parameters[\"activation\"]))\n",
    "        return parameters\n",
    "    \n",
    "    def predict(self,inp):\n",
    "        self.intake=np.dot(inp,self.weights)\n",
    "        if(self.activation==\"sigmoid\"):\n",
    "            self.out=self.sigmoid(self.intake)\n",
    "        elif(self.activation==\"tanh\"):\n",
    "            self.out=self.tanh(self.intake)\n",
    "        elif(self.activation==\"relu\"):\n",
    "            self.out=self.relu(self.intake)\n",
    "        return self.out\n",
    "    \n",
    "    def results(self):\n",
    "        ls=self.correctOutput - self.trainingOutput\n",
    "        loss=np.sum(ls,axis=1)\n",
    "        loss=loss/len(loss)\n",
    "        ac=np.sum(self.correctOutput==self.trainingOutput,axis=1)\n",
    "        accuracy=ac/len(self.correctOutput)\n",
    "        plt.subplot(1,2,1)\n",
    "        plt.plot(self.epochs.T,accuracy)\n",
    "        plt.title(\"Training Accuracy\")\n",
    "        plt.xlabel(\"epochs\")\n",
    "        plt.ylabel(\"Accuracy\")\n",
    "        plt.subplot(1,2,2)\n",
    "        plt.plot(self.epochs.T,loss)\n",
    "        plt.title(\"Training Loss\")\n",
    "        plt.xlabel(\"epochs\")\n",
    "        plt.ylabel(\"Loss\")\n",
    "        print(\"Accuracy : {}\".format(accuracy[len(accuracy)-1]))\n",
    "        print(\"loss : {}\".format(loss[len(loss)-1]))\n",
    "        \n",
    "    @classmethod\n",
    "    def info(cls):\n",
    "        print(\"This is a neural network unit which takes the output of previous unit and corresponding weights.\\n It takes the product of both and is passes on to the activation function to get the output\")\n",
    "        \n",
    "    "
   ]
  },
  {
   "cell_type": "code",
   "execution_count": 18,
   "metadata": {},
   "outputs": [
    {
     "name": "stdout",
     "output_type": "stream",
     "text": [
      "Activation set as sigmoid\n"
     ]
    }
   ],
   "source": [
    "u1=Unit(activation=\"sigmoid\")"
   ]
  },
  {
   "cell_type": "code",
   "execution_count": 19,
   "metadata": {},
   "outputs": [
    {
     "data": {
      "image/png": "[encoded data removed]",
      "text/plain": [
       "<Figure size 432x288 with 1 Axes>"
      ]
     },
     "metadata": {
      "needs_background": "light"
     },
     "output_type": "display_data"
    }
   ],
   "source": [
    "u1.getActivation()"
   ]
  },
  {
   "cell_type": "code",
   "execution_count": 24,
   "metadata": {},
   "outputs": [
    {
     "ename": "AttributeError",
     "evalue": "'numpy.ndarray' object has no attribute 'exp'",
     "output_type": "error",
     "traceback": [
      "\u001b[1;31m---------------------------------------------------------------------------\u001b[0m",
      "\u001b[1;31mAttributeError\u001b[0m                            Traceback (most recent call last)",
      "\u001b[1;32m<ipython-input-24-62f554d372fe>\u001b[0m in \u001b[0;36m<module>\u001b[1;34m\u001b[0m\n\u001b[1;32m----> 1\u001b[1;33m \u001b[0mu1\u001b[0m\u001b[1;33m.\u001b[0m\u001b[0mtrain\u001b[0m\u001b[1;33m(\u001b[0m\u001b[1;36m35\u001b[0m\u001b[1;33m,\u001b[0m\u001b[0mtraining_data\u001b[0m\u001b[1;33m,\u001b[0m\u001b[0mtraining_class_name\u001b[0m\u001b[1;33m)\u001b[0m\u001b[1;33m\u001b[0m\u001b[1;33m\u001b[0m\u001b[0m\n\u001b[0m",
      "\u001b[1;32m<ipython-input-17-1d3d53f53dec>\u001b[0m in \u001b[0;36mtrain\u001b[1;34m(self, epochs, inputmatrix, outputmatrix)\u001b[0m\n\u001b[0;32m     36\u001b[0m         \u001b[0mself\u001b[0m\u001b[1;33m.\u001b[0m\u001b[0mepochs\u001b[0m\u001b[1;33m=\u001b[0m\u001b[0mnp\u001b[0m\u001b[1;33m.\u001b[0m\u001b[0masmatrix\u001b[0m\u001b[1;33m(\u001b[0m\u001b[0mnp\u001b[0m\u001b[1;33m.\u001b[0m\u001b[0marange\u001b[0m\u001b[1;33m(\u001b[0m\u001b[1;36m0\u001b[0m\u001b[1;33m,\u001b[0m\u001b[0mepochs\u001b[0m\u001b[1;33m,\u001b[0m\u001b[1;36m1\u001b[0m\u001b[1;33m)\u001b[0m\u001b[1;33m)\u001b[0m\u001b[1;33m\u001b[0m\u001b[1;33m\u001b[0m\u001b[0m\n\u001b[0;32m     37\u001b[0m         \u001b[1;32mfor\u001b[0m \u001b[0mi\u001b[0m \u001b[1;32min\u001b[0m \u001b[0mrange\u001b[0m\u001b[1;33m(\u001b[0m\u001b[1;36m0\u001b[0m\u001b[1;33m,\u001b[0m\u001b[0mepochs\u001b[0m\u001b[1;33m)\u001b[0m\u001b[1;33m:\u001b[0m\u001b[1;33m\u001b[0m\u001b[1;33m\u001b[0m\u001b[0m\n\u001b[1;32m---> 38\u001b[1;33m             \u001b[0mval\u001b[0m\u001b[1;33m=\u001b[0m\u001b[0mself\u001b[0m\u001b[1;33m.\u001b[0m\u001b[0moutput\u001b[0m\u001b[1;33m(\u001b[0m\u001b[0minputmatrix\u001b[0m\u001b[1;33m,\u001b[0m\u001b[0moutputmatrix\u001b[0m\u001b[1;33m,\u001b[0m\u001b[0mi\u001b[0m\u001b[1;33m)\u001b[0m\u001b[1;33m\u001b[0m\u001b[1;33m\u001b[0m\u001b[0m\n\u001b[0m\u001b[0;32m     39\u001b[0m             \u001b[1;32mif\u001b[0m\u001b[1;33m(\u001b[0m\u001b[0mself\u001b[0m\u001b[1;33m.\u001b[0m\u001b[0mactivation\u001b[0m\u001b[1;33m==\u001b[0m\u001b[1;34m\"sigmoid\"\u001b[0m\u001b[1;33m)\u001b[0m\u001b[1;33m:\u001b[0m\u001b[1;33m\u001b[0m\u001b[1;33m\u001b[0m\u001b[0m\n\u001b[0;32m     40\u001b[0m                 \u001b[0mval\u001b[0m\u001b[1;33m=\u001b[0m\u001b[0mval\u001b[0m\u001b[1;33m>=\u001b[0m\u001b[1;36m0.499\u001b[0m\u001b[1;33m\u001b[0m\u001b[1;33m\u001b[0m\u001b[0m\n",
      "\u001b[1;32m<ipython-input-17-1d3d53f53dec>\u001b[0m in \u001b[0;36moutput\u001b[1;34m(self, inputmatrix, outputmatrix, iterno)\u001b[0m\n\u001b[0;32m     51\u001b[0m         \u001b[0mself\u001b[0m\u001b[1;33m.\u001b[0m\u001b[0mipv\u001b[0m\u001b[1;33m=\u001b[0m\u001b[0mnp\u001b[0m\u001b[1;33m.\u001b[0m\u001b[0mdot\u001b[0m\u001b[1;33m(\u001b[0m\u001b[0minputmatrix\u001b[0m\u001b[1;33m,\u001b[0m\u001b[0mself\u001b[0m\u001b[1;33m.\u001b[0m\u001b[0mweights\u001b[0m\u001b[1;33m)\u001b[0m\u001b[1;33m\u001b[0m\u001b[1;33m\u001b[0m\u001b[0m\n\u001b[0;32m     52\u001b[0m         \u001b[1;32mif\u001b[0m\u001b[1;33m(\u001b[0m\u001b[0mself\u001b[0m\u001b[1;33m.\u001b[0m\u001b[0mactivation\u001b[0m\u001b[1;33m==\u001b[0m\u001b[1;34m\"sigmoid\"\u001b[0m\u001b[1;33m)\u001b[0m\u001b[1;33m:\u001b[0m\u001b[1;33m\u001b[0m\u001b[1;33m\u001b[0m\u001b[0m\n\u001b[1;32m---> 53\u001b[1;33m             \u001b[0mself\u001b[0m\u001b[1;33m.\u001b[0m\u001b[0mresult\u001b[0m\u001b[1;33m=\u001b[0m\u001b[0mself\u001b[0m\u001b[1;33m.\u001b[0m\u001b[0msigmoid\u001b[0m\u001b[1;33m(\u001b[0m\u001b[0mself\u001b[0m\u001b[1;33m.\u001b[0m\u001b[0mipv\u001b[0m\u001b[1;33m)\u001b[0m\u001b[1;33m\u001b[0m\u001b[1;33m\u001b[0m\u001b[0m\n\u001b[0m\u001b[0;32m     54\u001b[0m         \u001b[1;32melif\u001b[0m\u001b[1;33m(\u001b[0m\u001b[0mself\u001b[0m\u001b[1;33m.\u001b[0m\u001b[0mactivation\u001b[0m\u001b[1;33m==\u001b[0m\u001b[1;34m\"tanh\"\u001b[0m\u001b[1;33m)\u001b[0m\u001b[1;33m:\u001b[0m\u001b[1;33m\u001b[0m\u001b[1;33m\u001b[0m\u001b[0m\n\u001b[0;32m     55\u001b[0m             \u001b[0mself\u001b[0m\u001b[1;33m.\u001b[0m\u001b[0mresult\u001b[0m\u001b[1;33m=\u001b[0m\u001b[0mself\u001b[0m\u001b[1;33m.\u001b[0m\u001b[0mtanh\u001b[0m\u001b[1;33m(\u001b[0m\u001b[0mself\u001b[0m\u001b[1;33m.\u001b[0m\u001b[0mipv\u001b[0m\u001b[1;33m)\u001b[0m\u001b[1;33m\u001b[0m\u001b[1;33m\u001b[0m\u001b[0m\n",
      "\u001b[1;32m<ipython-input-17-1d3d53f53dec>\u001b[0m in \u001b[0;36msigmoid\u001b[1;34m(self, X)\u001b[0m\n\u001b[0;32m      7\u001b[0m \u001b[1;33m\u001b[0m\u001b[0m\n\u001b[0;32m      8\u001b[0m     \u001b[1;32mdef\u001b[0m \u001b[0msigmoid\u001b[0m\u001b[1;33m(\u001b[0m\u001b[0mself\u001b[0m\u001b[1;33m,\u001b[0m\u001b[0mX\u001b[0m\u001b[1;33m)\u001b[0m\u001b[1;33m:\u001b[0m\u001b[1;33m\u001b[0m\u001b[1;33m\u001b[0m\u001b[0m\n\u001b[1;32m----> 9\u001b[1;33m         \u001b[1;32mreturn\u001b[0m \u001b[1;36m1\u001b[0m\u001b[1;33m/\u001b[0m\u001b[1;33m(\u001b[0m\u001b[1;36m1\u001b[0m\u001b[1;33m+\u001b[0m\u001b[0mnp\u001b[0m\u001b[1;33m.\u001b[0m\u001b[0mexp\u001b[0m\u001b[1;33m(\u001b[0m\u001b[1;33m-\u001b[0m\u001b[0mX\u001b[0m\u001b[1;33m)\u001b[0m\u001b[1;33m)\u001b[0m\u001b[1;33m;\u001b[0m\u001b[1;33m\u001b[0m\u001b[1;33m\u001b[0m\u001b[0m\n\u001b[0m\u001b[0;32m     10\u001b[0m \u001b[1;33m\u001b[0m\u001b[0m\n\u001b[0;32m     11\u001b[0m     \u001b[1;32mdef\u001b[0m \u001b[0mtanh\u001b[0m\u001b[1;33m(\u001b[0m\u001b[0mself\u001b[0m\u001b[1;33m,\u001b[0m\u001b[0mX\u001b[0m\u001b[1;33m)\u001b[0m\u001b[1;33m:\u001b[0m\u001b[1;33m\u001b[0m\u001b[1;33m\u001b[0m\u001b[0m\n",
      "\u001b[1;31mAttributeError\u001b[0m: 'numpy.ndarray' object has no attribute 'exp'"
     ]
    }
   ],
   "source": [
    "u1.train(35,training_data,training_class_name)"
   ]
  },
  {
   "cell_type": "code",
   "execution_count": 20,
   "metadata": {},
   "outputs": [
    {
     "name": "stdout",
     "output_type": "stream",
     "text": [
      "Accuracy : [11.65714286]\n",
      "loss : [-0.91428571]\n"
     ]
    },
    {
     "data": {
      "image/png": "[encoded data removed]",
      "text/plain": [
       "<Figure size 432x288 with 2 Axes>"
      ]
     },
     "metadata": {
      "needs_background": "light"
     },
     "output_type": "display_data"
    }
   ],
   "source": [
    "params=u1.results()"
   ]
  },
  {
   "cell_type": "code",
   "execution_count": 10,
   "metadata": {},
   "outputs": [
    {
     "name": "stdout",
     "output_type": "stream",
     "text": [
      "[[1.]]\n"
     ]
    }
   ],
   "source": [
    "output=u1.predict(np.asarray([39,0,0,1,1,1,0,1,1,0,0,0,0,2.3,280,98,3.8,40,0]))\n",
    "print(output)"
   ]
  },
  {
   "cell_type": "code",
   "execution_count": 11,
   "metadata": {},
   "outputs": [
    {
     "name": "stdout",
     "output_type": "stream",
     "text": [
      "Weights = [[ 0.60790211]\n",
      " [ 0.59439781]\n",
      " [ 0.27854576]\n",
      " [ 0.47193184]\n",
      " [ 0.06188781]\n",
      " [ 0.8514607 ]\n",
      " [ 0.34852984]\n",
      " [ 0.78492408]\n",
      " [ 0.76755015]\n",
      " [ 0.35052782]\n",
      " [ 0.42230037]\n",
      " [ 0.86151442]\n",
      " [ 0.22834012]\n",
      " [-0.01758147]\n",
      " [ 1.04263399]\n",
      " [ 0.93343558]\n",
      " [-0.01160433]\n",
      " [ 1.12394376]\n",
      " [ 0.00388734]]\n",
      "activation = sigmoid\n"
     ]
    }
   ],
   "source": [
    "res=u1.parameters()"
   ]
  },
  {
   "cell_type": "code",
   "execution_count": 127,
   "metadata": {},
   "outputs": [
    {
     "ename": "SyntaxError",
     "evalue": "unexpected EOF while parsing (<ipython-input-127-4e99675331ea>, line 6)",
     "output_type": "error",
     "traceback": [
      "\u001b[1;36m  File \u001b[1;32m\"<ipython-input-127-4e99675331ea>\"\u001b[1;36m, line \u001b[1;32m6\u001b[0m\n\u001b[1;33m    \u001b[0m\n\u001b[1;37m    ^\u001b[0m\n\u001b[1;31mSyntaxError\u001b[0m\u001b[1;31m:\u001b[0m unexpected EOF while parsing\n"
     ]
    }
   ],
   "source": [
    "\n",
    "class Layers:\n",
    "    def __init__(self):\n",
    "        pass\n",
    "    class Deep:\n",
    "        def __init__(self,numberOfUnits,otherdata):\n",
    "            "
   ]
  },
  {
   "cell_type": "code",
   "execution_count": 3,
   "metadata": {},
   "outputs": [],
   "source": [
    "from PIL import Image"
   ]
  },
  {
   "cell_type": "code",
   "execution_count": 21,
   "metadata": {},
   "outputs": [
    {
     "name": "stdout",
     "output_type": "stream",
     "text": [
      "(3, 1)\n"
     ]
    }
   ],
   "source": [
    "abcd=np.array([[1],[2],[3]])\n",
    "print(abcd.shape)"
   ]
  },
  {
   "cell_type": "code",
   "execution_count": null,
   "metadata": {},
   "outputs": [],
   "source": []
  }
 ],
 "metadata": {
  "kernelspec": {
   "display_name": "Python 3",
   "language": "python",
   "name": "python3"
  },
  "language_info": {
   "codemirror_mode": {
    "name": "ipython",
    "version": 3
   },
   "file_extension": ".py",
   "mimetype": "text/x-python",
   "name": "python",
   "nbconvert_exporter": "python",
   "pygments_lexer": "ipython3",
   "version": "3.7.4"
  }
 },
 "nbformat": 4,
 "nbformat_minor": 2
}
